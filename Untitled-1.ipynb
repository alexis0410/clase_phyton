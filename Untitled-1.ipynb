{
 "cells": [
  {
   "cell_type": "code",
   "execution_count": null,
   "metadata": {},
   "outputs": [
    {
     "name": "stdout",
     "output_type": "stream",
     "text": [
      "Epale!!\n"
     ]
    }
   ],
   "source": [
    "print(\"Epale!!\")\n"
   ]
  },
  {
   "cell_type": "markdown",
   "metadata": {},
   "source": [
    "## Esta es la clase de pyton\n",
    "* variables\n",
    "* Operadores matemáticos básicos\n",
    "* Operadores de Comparación.\n",
    "* Condicionales\n",
    "    - Simples\n",
    "    - Anidados\n",
    "    - Encadenados\n",
    "* Estructura de datos\n",
    "    - listas\n",
    "    - cadenas de caracteres\n",
    "    - diccionarios\n",
    "    - tuplas\n",
    "* Estructura de control\n",
    "    - funciones\n",
    "    - ciclos finitos\n",
    "    - ciclos infinitos "
   ]
  },
  {
   "cell_type": "markdown",
   "metadata": {},
   "source": []
  },
  {
   "cell_type": "code",
   "execution_count": null,
   "metadata": {},
   "outputs": [],
   "source": [
    "# variables en pyton\n",
    "name = \"alexis\"\n"
   ]
  },
  {
   "cell_type": "code",
   "execution_count": null,
   "metadata": {},
   "outputs": [
    {
     "data": {
      "text/plain": [
       "'alexis'"
      ]
     },
     "execution_count": 3,
     "metadata": {},
     "output_type": "execute_result"
    }
   ],
   "source": [
    "name "
   ]
  },
  {
   "cell_type": "code",
   "execution_count": null,
   "metadata": {},
   "outputs": [],
   "source": [
    "# cuando la variable tiene más de una palabra\n",
    "last_name = \"primero\""
   ]
  },
  {
   "cell_type": "code",
   "execution_count": null,
   "metadata": {},
   "outputs": [],
   "source": [
    "# mala practica\n",
    "lastname=\"primero\""
   ]
  },
  {
   "cell_type": "code",
   "execution_count": null,
   "metadata": {},
   "outputs": [
    {
     "name": "stdout",
     "output_type": "stream",
     "text": [
      "La raíz cuadrada de 2.0 es: 10.0\n",
      "El resulatdo de la suma es: 8.0\n",
      "El resulatdo de la resta es: 0.0\n",
      "El resulatdo de la multiplicación es: 16.0\n",
      "El resulatdo de la división es: 1.0\n",
      "El resulatdo de la raiz cuadrada es: 2.0\n"
     ]
    }
   ],
   "source": [
    "# operadores matemáticos \n",
    "num_1 = input( \"Ingrese número 1: \" ) \n",
    "num_1 = float(num_1)\n",
    "\n",
    "num_2 = input( \"Ingrese número 2: \" ) \n",
    "num_2 = float(num_2)\n",
    "\n",
    "# sumas\n",
    "result_1 = num_1 + num_2\n",
    "\n",
    "# resta \n",
    "result_2 = num_1 - num_2\n",
    "\n",
    "# multiplicación \n",
    "result_3 = num_1 * num_2 \n",
    "\n",
    "# división\n",
    "result_4 = num_1 / num_2 \n",
    "\n",
    "# raiz cuadrada\n",
    "\n",
    "import math\n",
    "\n",
    "result_5 = float(input(\"Ingrese un número: \"))\n",
    "result_5 = math.sqrt(result_5)\n",
    "\n",
    "print(f\"La raíz cuadrada de {result_5} es: {raiz_cuadrada}\")\n",
    "\n",
    "\n",
    "\n",
    "# resultados\n",
    "print(f\"El resulatdo de la suma es: {result_1}\")\n",
    "print(f\"El resulatdo de la resta es: {result_2}\")\n",
    "print(f\"El resulatdo de la multiplicación es: {result_3}\")\n",
    "print(f\"El resulatdo de la división es: {result_4}\")\n",
    "print(f\"El resulatdo de la raiz cuadrada es: {result_5}\")\n"
   ]
  },
  {
   "cell_type": "code",
   "execution_count": null,
   "metadata": {},
   "outputs": [
    {
     "name": "stdout",
     "output_type": "stream",
     "text": [
      "¡Hola! Josefina\n",
      "¡Hola 4!\n"
     ]
    }
   ],
   "source": [
    "# saludos\n",
    "name = \"Josefina\"\n",
    "\n",
    "print(f\"¡Hola! {name}\")\n",
    "\n",
    "nombre = input(\"¿Cómo te llamas? \")\n",
    "\n",
    "print(f\"¡Hola {nombre}!\")\n"
   ]
  },
  {
   "cell_type": "code",
   "execution_count": null,
   "metadata": {},
   "outputs": [
    {
     "data": {
      "text/plain": [
       "True"
      ]
     },
     "execution_count": 29,
     "metadata": {},
     "output_type": "execute_result"
    }
   ],
   "source": [
    "# comparadaores de comparación \n",
    "\n",
    "# mayor que > \n",
    "# menor que <\n",
    "# mayor igual >=\n",
    "# menor igual <=\n",
    "# igual ==\n",
    "# diferente !=\n",
    "\n",
    "10 > 5\n"
   ]
  },
  {
   "cell_type": "code",
   "execution_count": 41,
   "metadata": {},
   "outputs": [
    {
     "name": "stdout",
     "output_type": "stream",
     "text": [
      "mayor o igual a 10\n"
     ]
    }
   ],
   "source": [
    "# condicionales\n",
    "num = float( input( \"Ingrese un número: \") )\n",
    "\n",
    "# if condición: \n",
    "    #hago algo \n",
    "\n",
    "if num >= 10: \n",
    "    print(\"mayor o igual a 10\")\n",
    "\n",
    "else: \n",
    "    print(\"es menor que 10\")\n"
   ]
  },
  {
   "cell_type": "code",
   "execution_count": 42,
   "metadata": {},
   "outputs": [
    {
     "name": "stdout",
     "output_type": "stream",
     "text": [
      "fuera de rango\n"
     ]
    }
   ],
   "source": [
    "# condicionales\n",
    "num = float( input( \"Ingrese un número: \") )\n",
    "\n",
    "# if condición: \n",
    "    #hago algo \n",
    "\n",
    "if ( num >= 10) and ( num <= 20 ) :\n",
    "    print(\"entre 10 y 20\")\n",
    "\n",
    "else: \n",
    "    print(\"fuera de rango\")"
   ]
  },
  {
   "cell_type": "code",
   "execution_count": 43,
   "metadata": {},
   "outputs": [],
   "source": [
    "# operadores lógicos \n",
    "# and or not "
   ]
  },
  {
   "cell_type": "code",
   "execution_count": null,
   "metadata": {},
   "outputs": [],
   "source": [
    "# ejemplo if, elif, else\n",
    "\n",
    "import math\n",
    "\n",
    "numero = float(input(\"Ingrese un número: \"))\n",
    "raiz_cuadrada = math.sqrt(numero)\n",
    "\n",
    "if raiz_cuadrada > 10:\n",
    "    print(\"mayor a 10\")\n",
    "\n",
    "elif raiz_cuadrada == 10:\n",
    "    print(\"es igual que 10\")\n",
    "\n",
    "else: \n",
    "    print(\"es menor que 10\")\n",
    "\n",
    "print(f\"La raíz cuadrada de {numero} es: {raiz_cuadrada}\")"
   ]
  }
 ],
 "metadata": {
  "kernelspec": {
   "display_name": "Python 3",
   "language": "python",
   "name": "python3"
  },
  "language_info": {
   "codemirror_mode": {
    "name": "ipython",
    "version": 3
   },
   "file_extension": ".py",
   "mimetype": "text/x-python",
   "name": "python",
   "nbconvert_exporter": "python",
   "pygments_lexer": "ipython3",
   "version": "3.12.2"
  }
 },
 "nbformat": 4,
 "nbformat_minor": 2
}
